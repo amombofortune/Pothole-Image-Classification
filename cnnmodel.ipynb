{
 "cells": [
  {
   "cell_type": "markdown",
   "id": "4b7ae7b4",
   "metadata": {},
   "source": [
    "## Step 1: Import Python Libraries "
   ]
  },
  {
   "cell_type": "code",
   "execution_count": null,
   "id": "56b56079",
   "metadata": {},
   "outputs": [],
   "source": [
    "#Keras\n",
    "from tensorflow import keras\n",
    "\n",
    "# Import of keras model and hidden layers for CNN\n",
    "from keras.models import Sequential\n",
    "from keras.layers.convolutional import Conv2D, MaxPooling2D\n",
    "from keras.layers import Dense, Flatten, Dropout\n",
    "\n",
    "#Image handling libraries\n",
    "import numpy as np\n",
    "import matplotlib.pyplot as plt\n",
    "import cv2\n",
    "import pandas as pd\n",
    "\n",
    "#Sklearn libraries\n",
    "from sklearn.model_selection import train_test_split\n",
    "from sklearn.metrics import confusion_matrix\n",
    "\n",
    "import warnings\n",
    "warnings.filterwarnings('always')\n",
    "warnings.filterwarnings('ignore')\n",
    "\n",
    "# data visualisation and manipulation\n",
    "import matplotlib.pyplot as plt\n",
    "from matplotlib import style\n",
    "\n"
   ]
  },
  {
   "cell_type": "markdown",
   "id": "4f4ab5dd",
   "metadata": {},
   "source": [
    "## Step 2: Load Dataset "
   ]
  },
  {
   "cell_type": "code",
   "execution_count": null,
   "id": "9f41363b",
   "metadata": {},
   "outputs": [],
   "source": [
    "#Initialize a list of paths for images\n",
    "imagepaths = []\n",
    "\n",
    "import os\n",
    "for dirname, _, filenames in os.walk('./dataset'):\n",
    "    for filename in filenames:\n",
    "        path = os.path.join(dirname, filename)\n",
    "        imagepaths.append(path)\n",
    "\n",
    "print(len(imagepaths))"
   ]
  },
  {
   "cell_type": "code",
   "execution_count": null,
   "id": "dd378ab6",
   "metadata": {},
   "outputs": [],
   "source": [
    "IMG_SIZE=128\n",
    "X=[]\n",
    "y=[]\n",
    "for image in imagepaths:\n",
    "    try:\n",
    "        img = cv2.imread(image,cv2.IMREAD_COLOR)\n",
    "        img = cv2.resize(img, (IMG_SIZE,IMG_SIZE))\n",
    "\n",
    "        X.append(np.array(img))\n",
    "        if(image.startswith('./dataset/Plain')):\n",
    "            y.append('Plain')\n",
    "        else:\n",
    "            y.append('Pothole')\n",
    "    except:\n",
    "        pass"
   ]
  },
  {
   "cell_type": "markdown",
   "id": "dcd4629a",
   "metadata": {},
   "source": [
    "## Step 3: Exploratory Data Analysis "
   ]
  },
  {
   "cell_type": "code",
   "execution_count": null,
   "id": "47389855",
   "metadata": {},
   "outputs": [],
   "source": [
    "import random as rn\n",
    "fig,ax=plt.subplots(2,5)\n",
    "plt.subplots_adjust(bottom=0.3, top=0.7, hspace=0)\n",
    "fig.set_size_inches(15,15)\n",
    "\n",
    "for i in range(2):\n",
    "    for j in range (5):\n",
    "        l=rn.randint(0,len(y))\n",
    "        ax[i,j].imshow(X[l][:,:,::-1])\n",
    "        ax[i,j].set_title(y[l])\n",
    "        ax[i,j].set_aspect('equal')"
   ]
  },
  {
   "cell_type": "markdown",
   "id": "98738ef7",
   "metadata": {},
   "source": [
    "## Step 4: Data Pre-processing "
   ]
  },
  {
   "cell_type": "code",
   "execution_count": null,
   "id": "be254a9a",
   "metadata": {},
   "outputs": [],
   "source": [
    "from sklearn.preprocessing import LabelEncoder\n",
    "from keras.utils import to_categorical\n",
    "from sklearn.model_selection import train_test_split\n",
    "\n",
    "X=np.array(X)\n",
    "\n",
    "labelencoder=LabelEncoder()\n",
    "Y=labelencoder.fit_transform(y)\n",
    "Y=to_categorical(Y,2)\n",
    "print(Y)\n",
    "print(X.shape)"
   ]
  },
  {
   "cell_type": "code",
   "execution_count": null,
   "id": "b22fe2bd",
   "metadata": {},
   "outputs": [],
   "source": [
    "x_train,x_test,y_train,y_test=train_test_split(X,Y,test_size=0.25,random_state=5)"
   ]
  },
  {
   "cell_type": "markdown",
   "id": "aadc715f",
   "metadata": {},
   "source": [
    "## Step 5: Data Augmentation "
   ]
  },
  {
   "cell_type": "code",
   "execution_count": null,
   "id": "e95d10f4",
   "metadata": {},
   "outputs": [],
   "source": [
    "from keras.preprocessing.image import ImageDataGenerator\n",
    "\n",
    "datagen = ImageDataGenerator(\n",
    "    featurewise_center=True,\n",
    "    featurewise_std_normalization=True,\n",
    "    rotation_range=20,\n",
    "    width_shift_range=0.2,\n",
    "    height_shift_range=0.2,\n",
    "    horizontal_flip=True,\n",
    "    validation_split=0.2\n",
    "    )\n",
    "\n",
    "datagen.fit(x_train)\n",
    "\n",
    "train_generator = datagen.flow(x_train, y_train, batch_size=64, subset='training')\n",
    "\n",
    "\n",
    "\n",
    "validation_generator = datagen.flow(x_train, y_train, batch_size=64, subset='validation')"
   ]
  },
  {
   "cell_type": "markdown",
   "id": "79cdcfef",
   "metadata": {},
   "source": [
    "## Step 6: Build Model "
   ]
  },
  {
   "cell_type": "code",
   "execution_count": null,
   "id": "40413b96",
   "metadata": {},
   "outputs": [],
   "source": [
    "# Creates a CNN Sequential Model\n",
    "model = Sequential()\n",
    "\n",
    "model.add(Conv2D(16, (3,3), activation = 'relu', padding = 'same', input_shape=(128,128,3)))\n",
    "model.add(MaxPooling2D((2,2)))\n",
    "\n",
    "model.add(Conv2D(32, (3, 3), activation='relu', padding = 'same')) \n",
    "model.add(MaxPooling2D((2, 2)))\n",
    "\n",
    "model.add(Conv2D(64, (3, 3), activation='relu', padding = 'same')) \n",
    "model.add(MaxPooling2D((2, 2)))\n",
    "\n",
    "model.add(Conv2D(128, (3, 3), activation='relu', padding = 'same')) \n",
    "model.add(MaxPooling2D((2, 2)))\n",
    "\n",
    "model.add(Conv2D(256, (3, 3), activation='relu', padding = 'same')) \n",
    "model.add(MaxPooling2D((2, 2)))\n",
    "\n",
    "model.add(Conv2D(256, (3, 3), activation='relu', padding = 'same')) \n",
    "model.add(MaxPooling2D((2, 2)))\n",
    "\n",
    "model.add(Conv2D(512, (3, 3), activation='relu', padding = 'same')) \n",
    "model.add(MaxPooling2D((2, 2)))\n",
    "\n",
    "\n",
    "model.add(Flatten())\n",
    "\n",
    "model.add(Dropout(0.5))\n",
    "\n",
    "model.add(Dense(512, activation='relu'))\n",
    "\n",
    "model.add(Dense(2, activation='softmax'))"
   ]
  },
  {
   "cell_type": "code",
   "execution_count": null,
   "id": "3b955a49",
   "metadata": {},
   "outputs": [],
   "source": [
    "print(model.summary())"
   ]
  },
  {
   "cell_type": "markdown",
   "id": "6d42baa1",
   "metadata": {},
   "source": [
    "## Step 7: Define Loss function and optimizer "
   ]
  },
  {
   "cell_type": "code",
   "execution_count": null,
   "id": "9593aca4",
   "metadata": {},
   "outputs": [],
   "source": [
    "#Defining loss function and optimizer\n",
    "model.compile(optimizer='adam', loss='categorical_crossentropy', metrics=['accuracy'])"
   ]
  },
  {
   "cell_type": "markdown",
   "id": "4c050fe9",
   "metadata": {},
   "source": [
    "## Step 8: Train model "
   ]
  },
  {
   "cell_type": "code",
   "execution_count": null,
   "id": "84c1d9e3",
   "metadata": {},
   "outputs": [],
   "source": [
    "history = model.fit_generator(generator=train_generator,\n",
    "                    validation_data=validation_generator,\n",
    "                    use_multiprocessing=True,\n",
    "                    epochs = 300,\n",
    "                    workers=-1)"
   ]
  },
  {
   "cell_type": "code",
   "execution_count": null,
   "id": "6953fe51",
   "metadata": {},
   "outputs": [],
   "source": [
    "def render_training_history(history):\n",
    "    loss = history.history['loss']\n",
    "    val_loss = history.history['val_loss']\n",
    "\n",
    "    accuracy = history.history['accuracy']\n",
    "    val_accuracy = history.history['val_accuracy']\n",
    "\n",
    "    plt.figure(figsize=(14, 4))\n",
    "\n",
    "    plt.subplot(1, 2, 1)\n",
    "    plt.title('Loss')\n",
    "    plt.xlabel('Epoch')\n",
    "    plt.ylabel('Loss')\n",
    "    plt.plot(loss, label='Training set')\n",
    "    plt.plot(val_loss, label='Validation set', linestyle='--')\n",
    "    plt.legend()\n",
    "    plt.grid(linestyle='--', linewidth=1, alpha=0.5)\n",
    "\n",
    "    plt.subplot(1, 2, 2)\n",
    "    plt.title('Accuracy')\n",
    "    plt.xlabel('Epoch')\n",
    "    plt.ylabel('Accuracy')\n",
    "    plt.plot(accuracy, label='Training set')\n",
    "    plt.plot(val_accuracy, label='Validation set', linestyle='--')\n",
    "    plt.legend()\n",
    "    plt.grid(linestyle='--', linewidth=1, alpha=0.5)\n",
    "\n",
    "    plt.show()"
   ]
  },
  {
   "cell_type": "code",
   "execution_count": null,
   "id": "c0ae36ec",
   "metadata": {},
   "outputs": [],
   "source": [
    "render_training_history(history)"
   ]
  },
  {
   "cell_type": "markdown",
   "id": "69bcd5a1",
   "metadata": {},
   "source": [
    "## Step 9: Evaluate Model "
   ]
  },
  {
   "cell_type": "code",
   "execution_count": null,
   "id": "70df04c6",
   "metadata": {},
   "outputs": [],
   "source": [
    "loss, accuracy = model.evaluate(x_test, y_test)\n",
    "\n",
    "print('Test accuracy: {:2.2f}%'.format(accuracy*100))"
   ]
  },
  {
   "cell_type": "code",
   "execution_count": null,
   "id": "cad18599",
   "metadata": {},
   "outputs": [],
   "source": [
    "# Making predictions on test data\n",
    "prediction = model.predict(x_test)"
   ]
  },
  {
   "cell_type": "code",
   "execution_count": null,
   "id": "8ae6b47b",
   "metadata": {},
   "outputs": [],
   "source": [
    "#Transform predictions into 1D array \n",
    "y_pred = np.argmax(prediction, axis=1)"
   ]
  },
  {
   "cell_type": "code",
   "execution_count": null,
   "id": "93889cdf",
   "metadata": {},
   "outputs": [],
   "source": [
    "y_test1=y_test.astype(int)\n",
    "y_test2=[]\n",
    "for i in y_test1:\n",
    "    a=1\n",
    "    #print(i[0],i[1])\n",
    "    if(i[0]==1 and i[1]==0):\n",
    "        a=0\n",
    "    y_test2.append(a)"
   ]
  },
  {
   "cell_type": "code",
   "execution_count": null,
   "id": "d488bd80",
   "metadata": {},
   "outputs": [],
   "source": [
    "from sklearn.metrics import ConfusionMatrixDisplay\n",
    "\n",
    "labels = [\"Plain\", \"Potholes\"]\n",
    "\n",
    "cm = confusion_matrix(y_test2, y_pred)\n",
    "\n",
    "disp = ConfusionMatrixDisplay(confusion_matrix=cm, display_labels=labels)\n",
    "\n",
    "disp.plot(cmap=plt.cm.Blues)\n",
    "plt.show()"
   ]
  },
  {
   "cell_type": "code",
   "execution_count": null,
   "id": "fcae285e",
   "metadata": {},
   "outputs": [],
   "source": [
    "from sklearn.metrics import classification_report\n",
    "target_names = ['Plain', 'Potholes']\n",
    "print(classification_report(y_test2, y_pred, target_names=target_names))"
   ]
  },
  {
   "cell_type": "code",
   "execution_count": null,
   "id": "7643aab4",
   "metadata": {},
   "outputs": [],
   "source": [
    "model.save('newmodel.h5')"
   ]
  }
 ],
 "metadata": {
  "kernelspec": {
   "display_name": "Python 3.10.2 ('venv': venv)",
   "language": "python",
   "name": "python3"
  },
  "language_info": {
   "codemirror_mode": {
    "name": "ipython",
    "version": 3
   },
   "file_extension": ".py",
   "mimetype": "text/x-python",
   "name": "python",
   "nbconvert_exporter": "python",
   "pygments_lexer": "ipython3",
   "version": "3.10.2"
  },
  "vscode": {
   "interpreter": {
    "hash": "b6d0711e7422c19180518e78deb1467072631fd25495f0fc7e3945603c3f2378"
   }
  }
 },
 "nbformat": 4,
 "nbformat_minor": 5
}
